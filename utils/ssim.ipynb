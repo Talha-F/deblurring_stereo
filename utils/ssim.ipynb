{
 "cells": [
  {
   "cell_type": "code",
   "execution_count": 1,
   "metadata": {},
   "outputs": [],
   "source": [
    "\n",
    "\n",
    "import cv2\n",
    "import os\n",
    "from skimage.metrics import structural_similarity as ssim\n",
    "def ssim_func(image1, image2):\n",
    "\n",
    "    # Convert the images to grayscale\n",
    "    gray1 = cv2.cvtColor(image1, cv2.COLOR_BGR2GRAY)\n",
    "    gray2 = cv2.cvtColor(image2, cv2.COLOR_BGR2GRAY)\n",
    "\n",
    "    # Check for same size and ratio and report accordingly\n",
    "    ho, wo, _ = image1.shape\n",
    "    hc, wc, _ = image2.shape\n",
    "    ratio_orig = ho/wo\n",
    "    ratio_comp = hc/wc\n",
    "    dim = (wc, hc)\n",
    "\n",
    "    if round(ratio_orig, 2) != round(ratio_comp, 2):\n",
    "        print(\"\\nImages not of the same dimension. Check input.\")\n",
    "        exit()\n",
    "\n",
    "    # Resize first image if the second image is smaller\n",
    "    elif ho > hc and wo > wc:\n",
    "        print(\"\\nResizing original image for analysis...\")\n",
    "        gray1 = cv2.resize(gray1, dim)\n",
    "\n",
    "    elif ho < hc and wo < wc:\n",
    "        print(\"\\nCompressed image has a larger dimension than the original. Check input.\")\n",
    "        exit()\n",
    "\n",
    "    if round(ratio_orig, 2) == round(ratio_comp, 2):\n",
    "        ssim_value = compare(gray1, gray2)\n",
    "        return ssim_value\n",
    "\n",
    "def compare(imageA, imageB):\n",
    "    # Calculate the MSE and SSIM\n",
    "    s = ssim(imageA, imageB)\n",
    "\n",
    "    # Return the SSIM. The higher the value, the more \"similar\" the two images are.\n",
    "    return s\n",
    "\n",
    "path = '/home/cvmlserver/Seohyeon/DAVANet/'     "
   ]
  },
  {
   "cell_type": "code",
   "execution_count": 7,
   "metadata": {},
   "outputs": [
    {
     "name": "stdout",
     "output_type": "stream",
     "text": [
      "100\n",
      "['000003_10.png', '000010_11.png', '000012_10.png', '000016_11.png', '000017_11.png', '000020_11.png', '000022_10.png', '000025_11.png', '000026_11.png', '000028_11.png', '000031_11.png', '000033_11.png', '000035_10.png', '000036_10.png', '000036_11.png', '000037_11.png', '000038_11.png', '000042_11.png', '000046_10.png', '000046_11.png', '000048_10.png', '000051_10.png', '000052_10.png', '000054_10.png', '000054_11.png', '000055_10.png', '000055_11.png', '000057_10.png', '000058_11.png', '000061_10.png', '000063_10.png', '000064_11.png', '000068_10.png', '000069_11.png', '000070_10.png', '000070_11.png', '000072_11.png', '000074_11.png', '000076_11.png', '000079_10.png', '000082_10.png', '000082_11.png', '000084_11.png', '000085_10.png', '000092_10.png', '000093_10.png', '000094_11.png', '000096_11.png', '000099_10.png', '000099_11.png', '000100_11.png', '000103_11.png', '000106_10.png', '000107_11.png', '000109_11.png', '000110_11.png', '000112_11.png', '000114_11.png', '000117_10.png', '000118_11.png', '000122_11.png', '000124_10.png', '000126_11.png', '000128_10.png', '000128_11.png', '000134_10.png', '000137_11.png', '000138_10.png', '000144_10.png', '000146_10.png', '000146_11.png', '000147_11.png', '000148_11.png', '000150_10.png', '000151_10.png', '000157_11.png', '000158_11.png', '000159_10.png', '000162_10.png', '000162_11.png', '000164_11.png', '000166_10.png', '000168_10.png', '000168_11.png', '000170_11.png', '000171_10.png', '000171_11.png', '000172_10.png', '000174_11.png', '000175_10.png', '000178_10.png', '000178_11.png', '000182_10.png', '000183_11.png', '000187_10.png', '000190_10.png', '000190_11.png', '000192_11.png', '000196_11.png', '000198_11.png']\n",
      "['000003_10.png', '000010_11.png', '000012_10.png', '000016_11.png', '000017_11.png', '000020_11.png', '000022_10.png', '000025_11.png', '000026_11.png', '000028_11.png', '000031_11.png', '000033_11.png', '000035_10.png', '000036_10.png', '000036_11.png', '000037_11.png', '000038_11.png', '000042_11.png', '000046_10.png', '000046_11.png', '000048_10.png', '000051_10.png', '000052_10.png', '000054_10.png', '000054_11.png', '000055_10.png', '000055_11.png', '000057_10.png', '000058_11.png', '000061_10.png', '000063_10.png', '000064_11.png', '000068_10.png', '000069_11.png', '000070_10.png', '000070_11.png', '000072_11.png', '000074_11.png', '000076_11.png', '000079_10.png', '000082_10.png', '000082_11.png', '000084_11.png', '000085_10.png', '000092_10.png', '000093_10.png', '000094_11.png', '000096_11.png', '000099_10.png', '000099_11.png', '000100_11.png', '000103_11.png', '000106_10.png', '000107_11.png', '000109_11.png', '000110_11.png', '000112_11.png', '000114_11.png', '000117_10.png', '000118_11.png', '000122_11.png', '000124_10.png', '000126_11.png', '000128_10.png', '000128_11.png', '000134_10.png', '000137_11.png', '000138_10.png', '000144_10.png', '000146_10.png', '000146_11.png', '000147_11.png', '000148_11.png', '000150_10.png', '000151_10.png', '000157_11.png', '000158_11.png', '000159_10.png', '000162_10.png', '000162_11.png', '000164_11.png', '000166_10.png', '000168_10.png', '000168_11.png', '000170_11.png', '000171_10.png', '000171_11.png', '000172_10.png', '000174_11.png', '000175_10.png', '000178_10.png', '000178_11.png', '000182_10.png', '000183_11.png', '000187_10.png', '000190_10.png', '000190_11.png', '000192_11.png', '000196_11.png', '000198_11.png']\n"
     ]
    }
   ],
   "source": [
    "path = '/home/cvmlserver/Seohyeon/DAVANet/'\n",
    "left_list = sorted(os.listdir(path + 'input/Test/image_left_blur_ga/'))\n",
    "right_list = sorted(os.listdir(path + 'input/Test/image_right_blur_ga/'))\n",
    "length = len(left_list)\n",
    "print(length)\n",
    "print(right_list)\n",
    "print(left_list)\n",
    "left_out_list = sorted(os.listdir(path + 'output/stereo/Test_ours/left/'))\n",
    "right_out_list = sorted(os.listdir(path + 'output/stereo/Test_ours/right/'))\n",
    "\n",
    "for i in range(length):\n",
    "    Input_ImgR = cv2.imread('input/Test/image_right_blur_ga/'+right_list[i])\n",
    "    Input_ImgL = cv2.imread('input/Test/image_left_blur_ga/'+left_list[i])\n",
    "    ImgR = cv2.imread(path+'output/stereo/Test_ours/left/'+right_out_list[i])\n",
    "    ImgL = cv2.imread(path+'output/stereo/Test_ours/left/'+left_out_list[i])\n",
    "\n",
    "    ssim_value = ssim_func(Input_ImgR, ImgR) / 2 + ssim_func(Input_ImgL, ImgL) / 2\n",
    "\n",
    "    # print(left_list[i]+\"ssim: \",ssim_value)"
   ]
  },
  {
   "cell_type": "code",
   "execution_count": 8,
   "metadata": {},
   "outputs": [
    {
     "data": {
      "text/plain": [
       "0.7131341238212874"
      ]
     },
     "execution_count": 8,
     "metadata": {},
     "output_type": "execute_result"
    }
   ],
   "source": [
    "ssim_func(Input_ImgR, ImgR)"
   ]
  },
  {
   "cell_type": "code",
   "execution_count": 14,
   "metadata": {},
   "outputs": [
    {
     "name": "stdout",
     "output_type": "stream",
     "text": [
      "100\n",
      "['000003_10.png', '000010_11.png', '000012_10.png', '000016_11.png', '000017_11.png', '000020_11.png', '000022_10.png', '000025_11.png', '000026_11.png', '000028_11.png', '000031_11.png', '000033_11.png', '000035_10.png', '000036_10.png', '000036_11.png', '000037_11.png', '000038_11.png', '000042_11.png', '000046_10.png', '000046_11.png', '000048_10.png', '000051_10.png', '000052_10.png', '000054_10.png', '000054_11.png', '000055_10.png', '000055_11.png', '000057_10.png', '000058_11.png', '000061_10.png', '000063_10.png', '000064_11.png', '000068_10.png', '000069_11.png', '000070_10.png', '000070_11.png', '000072_11.png', '000074_11.png', '000076_11.png', '000079_10.png', '000082_10.png', '000082_11.png', '000084_11.png', '000085_10.png', '000092_10.png', '000093_10.png', '000094_11.png', '000096_11.png', '000099_10.png', '000099_11.png', '000100_11.png', '000103_11.png', '000106_10.png', '000107_11.png', '000109_11.png', '000110_11.png', '000112_11.png', '000114_11.png', '000117_10.png', '000118_11.png', '000122_11.png', '000124_10.png', '000126_11.png', '000128_10.png', '000128_11.png', '000134_10.png', '000137_11.png', '000138_10.png', '000144_10.png', '000146_10.png', '000146_11.png', '000147_11.png', '000148_11.png', '000150_10.png', '000151_10.png', '000157_11.png', '000158_11.png', '000159_10.png', '000162_10.png', '000162_11.png', '000164_11.png', '000166_10.png', '000168_10.png', '000168_11.png', '000170_11.png', '000171_10.png', '000171_11.png', '000172_10.png', '000174_11.png', '000175_10.png', '000178_10.png', '000178_11.png', '000182_10.png', '000183_11.png', '000187_10.png', '000190_10.png', '000190_11.png', '000192_11.png', '000196_11.png', '000198_11.png']\n",
      "['000003_10.png', '000010_11.png', '000012_10.png', '000016_11.png', '000017_11.png', '000020_11.png', '000022_10.png', '000025_11.png', '000026_11.png', '000028_11.png', '000031_11.png', '000033_11.png', '000035_10.png', '000036_10.png', '000036_11.png', '000037_11.png', '000038_11.png', '000042_11.png', '000046_10.png', '000046_11.png', '000048_10.png', '000051_10.png', '000052_10.png', '000054_10.png', '000054_11.png', '000055_10.png', '000055_11.png', '000057_10.png', '000058_11.png', '000061_10.png', '000063_10.png', '000064_11.png', '000068_10.png', '000069_11.png', '000070_10.png', '000070_11.png', '000072_11.png', '000074_11.png', '000076_11.png', '000079_10.png', '000082_10.png', '000082_11.png', '000084_11.png', '000085_10.png', '000092_10.png', '000093_10.png', '000094_11.png', '000096_11.png', '000099_10.png', '000099_11.png', '000100_11.png', '000103_11.png', '000106_10.png', '000107_11.png', '000109_11.png', '000110_11.png', '000112_11.png', '000114_11.png', '000117_10.png', '000118_11.png', '000122_11.png', '000124_10.png', '000126_11.png', '000128_10.png', '000128_11.png', '000134_10.png', '000137_11.png', '000138_10.png', '000144_10.png', '000146_10.png', '000146_11.png', '000147_11.png', '000148_11.png', '000150_10.png', '000151_10.png', '000157_11.png', '000158_11.png', '000159_10.png', '000162_10.png', '000162_11.png', '000164_11.png', '000166_10.png', '000168_10.png', '000168_11.png', '000170_11.png', '000171_10.png', '000171_11.png', '000172_10.png', '000174_11.png', '000175_10.png', '000178_10.png', '000178_11.png', '000182_10.png', '000183_11.png', '000187_10.png', '000190_10.png', '000190_11.png', '000192_11.png', '000196_11.png', '000198_11.png']\n"
     ]
    },
    {
     "ename": "RuntimeError",
     "evalue": "mean(): input dtype should be either floating point or complex dtypes. Got Byte instead.",
     "output_type": "error",
     "traceback": [
      "\u001b[0;31m---------------------------------------------------------------------------\u001b[0m",
      "\u001b[0;31mRuntimeError\u001b[0m                              Traceback (most recent call last)",
      "Cell \u001b[0;32mIn [14], line 27\u001b[0m\n\u001b[1;32m     25\u001b[0m ImgR \u001b[39m=\u001b[39m ImgR\u001b[39m.\u001b[39mclamp(\u001b[39m0.0\u001b[39m,\u001b[39m1.0\u001b[39m)\n\u001b[1;32m     26\u001b[0m ImgL \u001b[39m=\u001b[39m ImgL\u001b[39m.\u001b[39mclamp(\u001b[39m0.0\u001b[39m,\u001b[39m1.0\u001b[39m)\n\u001b[0;32m---> 27\u001b[0m mse \u001b[39m=\u001b[39m torch\u001b[39m.\u001b[39;49mpow(Input_ImgR \u001b[39m-\u001b[39;49m ImgR, \u001b[39m2\u001b[39;49m)\u001b[39m.\u001b[39;49mmean()\u001b[39m/\u001b[39m\u001b[39m2\u001b[39m \u001b[39m+\u001b[39m torch\u001b[39m.\u001b[39mpow(Input_ImgL \u001b[39m-\u001b[39m ImgL, \u001b[39m2\u001b[39m)\u001b[39m.\u001b[39mmean() \u001b[39m/\u001b[39m \u001b[39m2\u001b[39m\n\u001b[1;32m     28\u001b[0m \u001b[39mprint\u001b[39m(math\u001b[39m.\u001b[39msqrt(mse))\n",
      "\u001b[0;31mRuntimeError\u001b[0m: mean(): input dtype should be either floating point or complex dtypes. Got Byte instead."
     ]
    }
   ],
   "source": [
    "import math\n",
    "import torch\n",
    "path = '/home/cvmlserver/Seohyeon/DAVANet/'\n",
    "left_list = sorted(os.listdir(path + 'input/Test/image_left_blur_ga/'))\n",
    "right_list = sorted(os.listdir(path + 'input/Test/image_right_blur_ga/'))\n",
    "length = len(left_list)\n",
    "print(length)\n",
    "print(right_list)\n",
    "print(left_list)\n",
    "left_out_list = sorted(os.listdir(path + 'output/stereo/Test_ours/left/'))\n",
    "right_out_list = sorted(os.listdir(path + 'output/stereo/Test_ours/right/'))\n",
    "\n",
    "for i in range(length):\n",
    "    Input_ImgR = cv2.imread('input/Test/image_right_blur_ga/'+right_list[i])\n",
    "    Input_ImgL = cv2.imread('input/Test/image_left_blur_ga/'+left_list[i])\n",
    "    ImgR = cv2.imread(path+'output/stereo/Test_ours/left/'+right_out_list[i])\n",
    "    ImgL = cv2.imread(path+'output/stereo/Test_ours/left/'+left_out_list[i])\n",
    "\n",
    "    ssim_value = ssim_func(Input_ImgR, ImgR) / 2 + ssim_func(Input_ImgL, ImgL) / 2\n",
    "    ImgL = torch.from_numpy(ImgL)\n",
    "    ImgR = torch.from_numpy(ImgR)\n",
    "    Input_ImgL = torch.from_numpy(Input_ImgL)\n",
    "    Input_ImgR = torch.from_numpy(Input_ImgR)\n",
    "    \n",
    "    ImgR = ImgR.clamp(0.0,1.0)\n",
    "    ImgL = ImgL.clamp(0.0,1.0)\n",
    "    mse = torch.pow(Input_ImgR - ImgR, 2).mean()/2 + torch.pow(Input_ImgL - ImgL, 2).mean() / 2\n",
    "    print(math.sqrt(mse))\n"
   ]
  },
  {
   "cell_type": "code",
   "execution_count": null,
   "metadata": {},
   "outputs": [],
   "source": []
  }
 ],
 "metadata": {
  "kernelspec": {
   "display_name": "Python 3.10.6 ('11775-hw2')",
   "language": "python",
   "name": "python3"
  },
  "language_info": {
   "codemirror_mode": {
    "name": "ipython",
    "version": 3
   },
   "file_extension": ".py",
   "mimetype": "text/x-python",
   "name": "python",
   "nbconvert_exporter": "python",
   "pygments_lexer": "ipython3",
   "version": "3.10.6"
  },
  "orig_nbformat": 4,
  "vscode": {
   "interpreter": {
    "hash": "09f94152c9560a9262e19909104123c27996423b8d9cefbf1cc31600487b030b"
   }
  }
 },
 "nbformat": 4,
 "nbformat_minor": 2
}
