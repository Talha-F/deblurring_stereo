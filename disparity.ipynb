{
 "cells": [
  {
   "cell_type": "code",
   "execution_count": 4,
   "metadata": {},
   "outputs": [
    {
     "name": "stdout",
     "output_type": "stream",
     "text": [
      "['1666313493648_blurred_10.png', '1666313493648_blurred_25.png', '1666313493648_gaussian_25.png', '1666313493648_gaussian_5.png', '1666313493648_motion_10.png', '1666313493648_motion_25.png', '1666313493648_motion_5.png']\n",
      "['1666313493648_blurred_10.png', '1666313493648_blurred_25.png', '1666313493648_gaussian_25.png', '1666313493648_gaussian_5.png', '1666313493648_motion_10.png', '1666313493648_motion_25.png', '1666313493648_motion_5.png']\n"
     ]
    },
    {
     "name": "stderr",
     "output_type": "stream",
     "text": [
      "[ WARN:0@183.314] global /io/opencv/modules/imgcodecs/src/loadsave.cpp (239) findDecoder imread_('/home/cvmlserver/Seohyeon/DAVANet/input/Test//image_left/disparity_right'): can't open/read file: check file path/integrity\n"
     ]
    },
    {
     "ename": "error",
     "evalue": "OpenCV(4.6.0) /io/opencv/modules/calib3d/src/stereobm.cpp:1170: error: (-209:Sizes of input arguments do not match) All the images must have the same size in function 'compute'\n",
     "output_type": "error",
     "traceback": [
      "\u001b[0;31m---------------------------------------------------------------------------\u001b[0m",
      "\u001b[0;31merror\u001b[0m                                     Traceback (most recent call last)",
      "Cell \u001b[0;32mIn [4], line 16\u001b[0m\n\u001b[1;32m     14\u001b[0m imgR \u001b[39m=\u001b[39m cv2\u001b[39m.\u001b[39mimread(path\u001b[39m+\u001b[39m\u001b[39m'\u001b[39m\u001b[39m/image_right/\u001b[39m\u001b[39m'\u001b[39m\u001b[39m+\u001b[39mright_list[i],\u001b[39m0\u001b[39m)\n\u001b[1;32m     15\u001b[0m stereo \u001b[39m=\u001b[39m cv2\u001b[39m.\u001b[39mStereoBM_create(numDisparities \u001b[39m=\u001b[39m \u001b[39m16\u001b[39m, blockSize \u001b[39m=\u001b[39m \u001b[39m15\u001b[39m)\n\u001b[0;32m---> 16\u001b[0m disparity \u001b[39m=\u001b[39m stereo\u001b[39m.\u001b[39;49mcompute(imgL, imgR)\n\u001b[1;32m     18\u001b[0m cv2\u001b[39m.\u001b[39mimwrite(path\u001b[39m+\u001b[39m\u001b[39m'\u001b[39m\u001b[39m/real_left/\u001b[39m\u001b[39m'\u001b[39m\u001b[39m+\u001b[39mright_list[i], disparity)\n",
      "\u001b[0;31merror\u001b[0m: OpenCV(4.6.0) /io/opencv/modules/calib3d/src/stereobm.cpp:1170: error: (-209:Sizes of input arguments do not match) All the images must have the same size in function 'compute'\n"
     ]
    }
   ],
   "source": [
    "path = '/home/cvmlserver/Seohyeon/DAVANet/input/Test/'\n",
    "left_list = sorted(os.listdir(path + '/image_left/'))\n",
    "right_list = sorted(os.listdir(path + '/image_right/'))\n",
    "length = len(right_list)\n",
    "print(right_list)\n",
    "print(left_list)\n",
    "for i in range(length):\n",
    "    # os.rename(path+'/image_left_blur_ga/'+ left_list[i], path+'/image_left_blur_ga/'+left_list[i].split('_')[0]+'_'+left_list[i].split('_')[-1],)\n",
    "    # os.rename(path+'/image_right_blur_ga/'+right_list[i], path+'/image_right_blur_ga/'+right_list[i].split('_')[0]+'_'+right_list[i].split('_')[-1],)\n",
    "     \n",
    "    # stereo = cv2.StereoBM(1, 16, 15) \n",
    "    # stereo = cv2.createStereoBM(numDisparities=16, blockSize=15)\n",
    "    imgL = cv2.imread(path+'/image_left/'+'disparity_right',0)\n",
    "    imgR = cv2.imread(path+'/image_right/'+right_list[i],0)\n",
    "    stereo = cv2.StereoBM_create(numDisparities = 16, blockSize = 15)\n",
    "    disparity = stereo.compute(imgL, imgR)\n",
    "                    \n",
    "    cv2.imwrite(path+'/real_left/'+right_list[i], disparity)\n",
    "    # cv2.imwrite(path+'/disparity_right/'+right_list[i], disparity)\n",
    "# plt.imshow(disparity,'gray')\n",
    "# plt.show()"
   ]
  },
  {
   "cell_type": "code",
   "execution_count": null,
   "metadata": {},
   "outputs": [],
   "source": [
    "pathL = '/home/cvmlserver/Seohyeon/DAVANet/input/Test/image_left_blur_ga/'\n",
    "pathR = '/home/cvmlserver/Seohyeon/DAVANet/input/Test/image_right_blur_ga/'\n",
    "filelist = os.listdir('/home/cvmlserver/Seohyeon/DAVANet/input/Test/image_right_blur_ga/')\n",
    "\n",
    "for i in range(len(filelist)):\n",
    "    \n",
    "    # imgL = cv2.imread('/home/cvmlserver/Seohyeon/DAVANet/input/Test/image_right_blur_ga/00'+str(i)+'.png',0)\n",
    "    # imgR = cv2.imread('/home/cvmlserver/Seohyeon/DAVANet/input/Test/image_right/001.png',0)\n",
    "\n",
    "    # stereo = cv2.StereoBM(1, 16, 15) \n",
    "    # stereo = cv2.createStereoBM(numDisparities=16, blockSize=15)\n",
    "    # stereo = cv2.StereoBM_create(numDisparities = 16, blockSize = 15)\n",
    "    # disparity = stereo.compute(imgL, imgR)\n",
    "    cv2.imwrite('00'+str(i)+'.exr', disparity)\n",
    "\n",
    "plt.imshow(disparity,'gray')\n",
    "plt.show()\n"
   ]
  },
  {
   "cell_type": "code",
   "execution_count": null,
   "metadata": {},
   "outputs": [],
   "source": [
    "\n",
    "for i in range(1,2):\n",
    "    imgL = cv2.imread('/home/cvmlserver/Seohyeon/DAVANet/1666313493648_10x10.png',0)\n",
    "    imgR = cv2.imread('/home/cvmlserver/Seohyeon/DAVANet/1666313493648_10x10.png',0)\n",
    "\n",
    "    # imgL = cv2.imread('/home/cvmlserver/Seohyeon/DAVANet/input/Test/image_right_blur_ga/00'+str(i)+'.png',0)\n",
    "    # imgR = cv2.imread('/home/cvmlserver/Seohyeon/DAVANet/input/Test/image_right/001.png',0)\n",
    "    \n",
    "    # stereo = cv2.StereoBM(1, 16, 15) \n",
    "    # stereo = cv2.createStereoBM(numDisparities=16, blockSize=15)\n",
    "    stereo = cv2.StereoBM_create(numDisparities = 16, blockSize = 15)\n",
    "    disparity = stereo.compute(imgL, imgR)\n",
    "    # cv2.imwrite('00'+str(i)+'.exr', cv2.imgtogray(disparity))\n",
    "\n",
    "plt.imshow(disparity,'gray')\n",
    "plt.show()\n",
    "\n",
    "os.listdir(path)"
   ]
  },
  {
   "cell_type": "code",
   "execution_count": 7,
   "metadata": {},
   "outputs": [
    {
     "name": "stdout",
     "output_type": "stream",
     "text": [
      "6\n",
      "['img_260_right_blurred_10.png', 'img_260_right_blurred_25.png', 'img_260_right_gaussian_25.png', 'img_260_right_motion_10.png', 'img_260_right_motion_25.png', 'img_260_right_motion_5.png']\n",
      "['img_260_left_blurred_10.png', 'img_260_left_blurred_25.png', 'img_260_left_gaussian_25.png', 'img_260_left_motion_10.png', 'img_260_left_motion_25.png', 'img_260_left_motion_5.png']\n",
      "img_260_left_blurred_10.png\n",
      "img_260_blurred_10.png\n",
      "img_260_left_blurred_25.png\n",
      "img_260_blurred_25.png\n",
      "img_260_left_gaussian_25.png\n",
      "img_260_gaussian_25.png\n",
      "img_260_left_motion_10.png\n",
      "img_260_motion_10.png\n",
      "img_260_left_motion_25.png\n",
      "img_260_motion_25.png\n",
      "img_260_left_motion_5.png\n",
      "img_260_motion_5.png\n"
     ]
    }
   ],
   "source": [
    "import cv2\n",
    "blur_dir = None # directory\n",
    "image_idx = None # image file names under that directory\n",
    "path = '/home/cvmlserver/Seohyeon/DAVANet/input/Test/'\n",
    "left_list = sorted(os.listdir(path + 'image_left_blur_ga/'))\n",
    "right_list = sorted(os.listdir(path + 'image_right_blur_ga/'))\n",
    "length = len(left_list)\n",
    "print(length)\n",
    "print(right_list)\n",
    "print(left_list)\n",
    "\n",
    "for i in range(length):\n",
    "        print(left_list[i])\n",
    "        imgL = cv2.imread(path+'image_left_blur_ga/'+left_list[i])\n",
    "        imgR = cv2.imread(path+'image_right_blur_ga/'+right_list[i])\n",
    "        new_name = left_list[i].split('left')[0]+left_list[i].split('_')[-2]+'_'+left_list[i].split('_')[-1]\n",
    "        print(new_name)\n",
    "        cv2.imwrite(path+'image_left_blur_ga/'+new_name, imgL)\n",
    "        cv2.imwrite(path+'image_right_blur_ga/'+new_name, imgR)"
   ]
  },
  {
   "cell_type": "code",
   "execution_count": 10,
   "metadata": {},
   "outputs": [
    {
     "name": "stdout",
     "output_type": "stream",
     "text": [
      "6\n",
      "['img_260_right_blurred_10.png', 'img_260_right_blurred_25.png', 'img_260_right_gaussian_25.png', 'img_260_right_motion_10.png', 'img_260_right_motion_25.png', 'img_260_right_motion_5.png']\n",
      "['img_260_left_blurred_10.png', 'img_260_left_blurred_25.png', 'img_260_left_gaussian_25.png', 'img_260_left_motion_10.png', 'img_260_left_motion_25.png', 'img_260_motion_5.png']\n"
     ]
    }
   ],
   "source": [
    "import cv2\n",
    "\n",
    "path = '/home/cvmlserver/Seohyeon/DAVANet/260/'\n",
    "left_list = sorted(os.listdir(path + 'left/'))\n",
    "right_list = sorted(os.listdir(path + 'right/'))\n",
    "length = len(left_list)\n",
    "print(length)\n",
    "print(right_list)\n",
    "print(left_list)\n",
    "\n",
    "for i in range(length):\n",
    "    # imread: 0 = gray, 1 = color\n",
    "    imgL = cv2.imread(path+'left/'+left_list[i], 0)\n",
    "    imgR = cv2.imread(path+'right/'+right_list[i], 0)\n",
    "    blockSize = 13\n",
    "    uniquenessRatio = 6\n",
    "    speckleRange = 4\n",
    "    speckleWindow = 100\n",
    "    num_disp = 128\n",
    "    stereo = cv2.StereoSGBM_create(minDisparity = 0,\n",
    "                 numDisparities = num_disp,\n",
    "                 blockSize = blockSize,\n",
    "                 uniquenessRatio = uniquenessRatio,\n",
    "                 speckleWindowSize = speckleWindow,\n",
    "                 speckleRange = speckleRange,\n",
    "                 disp12MaxDiff = 1,\n",
    "                 P1 = 0,\n",
    "                 P2 = 0)\n",
    "    disparity = stereo.compute(imgL, imgR)\n",
    "    cv2.imwrite(path+'disparity/'+left_list[i], disparity)\n",
    "    # cv2.imwrite(path+'/disparity_right/'+right_list[i], disparity)"
   ]
  },
  {
   "cell_type": "code",
   "execution_count": null,
   "metadata": {},
   "outputs": [],
   "source": []
  }
 ],
 "metadata": {
  "kernelspec": {
   "display_name": "Python 3.10.6 ('11775-hw2')",
   "language": "python",
   "name": "python3"
  },
  "language_info": {
   "codemirror_mode": {
    "name": "ipython",
    "version": 3
   },
   "file_extension": ".py",
   "mimetype": "text/x-python",
   "name": "python",
   "nbconvert_exporter": "python",
   "pygments_lexer": "ipython3",
   "version": "3.10.6"
  },
  "orig_nbformat": 4,
  "vscode": {
   "interpreter": {
    "hash": "09f94152c9560a9262e19909104123c27996423b8d9cefbf1cc31600487b030b"
   }
  }
 },
 "nbformat": 4,
 "nbformat_minor": 2
}
