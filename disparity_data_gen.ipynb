{
 "cells": [
  {
   "cell_type": "code",
   "execution_count": 3,
   "metadata": {},
   "outputs": [
    {
     "name": "stdout",
     "output_type": "stream",
     "text": [
      "100\n",
      "['000003_10.png', '000010_11.png', '000012_10.png', '000016_11.png', '000017_11.png', '000020_11.png', '000022_10.png', '000025_11.png', '000026_11.png', '000028_11.png', '000031_11.png', '000033_11.png', '000035_10.png', '000036_10.png', '000036_11.png', '000037_11.png', '000038_11.png', '000042_11.png', '000046_10.png', '000046_11.png', '000048_10.png', '000051_10.png', '000052_10.png', '000054_10.png', '000054_11.png', '000055_10.png', '000055_11.png', '000057_10.png', '000058_11.png', '000061_10.png', '000063_10.png', '000064_11.png', '000068_10.png', '000069_11.png', '000070_10.png', '000070_11.png', '000072_11.png', '000074_11.png', '000076_11.png', '000079_10.png', '000082_10.png', '000082_11.png', '000084_11.png', '000085_10.png', '000092_10.png', '000093_10.png', '000094_11.png', '000096_11.png', '000099_10.png', '000099_11.png', '000100_11.png', '000103_11.png', '000106_10.png', '000107_11.png', '000109_11.png', '000110_11.png', '000112_11.png', '000114_11.png', '000117_10.png', '000118_11.png', '000122_11.png', '000124_10.png', '000126_11.png', '000128_10.png', '000128_11.png', '000134_10.png', '000137_11.png', '000138_10.png', '000144_10.png', '000146_10.png', '000146_11.png', '000147_11.png', '000148_11.png', '000150_10.png', '000151_10.png', '000157_11.png', '000158_11.png', '000159_10.png', '000162_10.png', '000162_11.png', '000164_11.png', '000166_10.png', '000168_10.png', '000168_11.png', '000170_11.png', '000171_10.png', '000171_11.png', '000172_10.png', '000174_11.png', '000175_10.png', '000178_10.png', '000178_11.png', '000182_10.png', '000183_11.png', '000187_10.png', '000190_10.png', '000190_11.png', '000192_11.png', '000196_11.png', '000198_11.png']\n",
      "['000003_10.png', '000010_11.png', '000012_10.png', '000016_11.png', '000017_11.png', '000020_11.png', '000022_10.png', '000025_11.png', '000026_11.png', '000028_11.png', '000031_11.png', '000033_11.png', '000035_10.png', '000036_10.png', '000036_11.png', '000037_11.png', '000038_11.png', '000042_11.png', '000046_10.png', '000046_11.png', '000048_10.png', '000051_10.png', '000052_10.png', '000054_10.png', '000054_11.png', '000055_10.png', '000055_11.png', '000057_10.png', '000058_11.png', '000061_10.png', '000063_10.png', '000064_11.png', '000068_10.png', '000069_11.png', '000070_10.png', '000070_11.png', '000072_11.png', '000074_11.png', '000076_11.png', '000079_10.png', '000082_10.png', '000082_11.png', '000084_11.png', '000085_10.png', '000092_10.png', '000093_10.png', '000094_11.png', '000096_11.png', '000099_10.png', '000099_11.png', '000100_11.png', '000103_11.png', '000106_10.png', '000107_11.png', '000109_11.png', '000110_11.png', '000112_11.png', '000114_11.png', '000117_10.png', '000118_11.png', '000122_11.png', '000124_10.png', '000126_11.png', '000128_10.png', '000128_11.png', '000134_10.png', '000137_11.png', '000138_10.png', '000144_10.png', '000146_10.png', '000146_11.png', '000147_11.png', '000148_11.png', '000150_10.png', '000151_10.png', '000157_11.png', '000158_11.png', '000159_10.png', '000162_10.png', '000162_11.png', '000164_11.png', '000166_10.png', '000168_10.png', '000168_11.png', '000170_11.png', '000171_10.png', '000171_11.png', '000172_10.png', '000174_11.png', '000175_10.png', '000178_10.png', '000178_11.png', '000182_10.png', '000183_11.png', '000187_10.png', '000190_10.png', '000190_11.png', '000192_11.png', '000196_11.png', '000198_11.png']\n"
     ]
    }
   ],
   "source": [
    "import cv2\n",
    "import os\n",
    "import matplotlib.pyplot as plt\n",
    "\n",
    "path = '/home/cvmlserver/Seohyeon/DAVANet/input/Test/'\n",
    "left_list = sorted(os.listdir(path + 'image_left/'))\n",
    "right_list = sorted(os.listdir(path + 'image_right/'))\n",
    "length = len(left_list)\n",
    "print(length)\n",
    "print(right_list)\n",
    "print(left_list)\n",
    "\n",
    "for i in range(length):\n",
    "    # imread: 0 = gray, 1 = color\n",
    "    imgL = cv2.imread(path+'image_left/'+left_list[i], cv2.COLOR_BGR2GRAY)\n",
    "    imgR = cv2.imread(path+'image_right/'+right_list[i], cv2.COLOR_BGR2GRAY)\n",
    "    blockSize = 13\n",
    "    uniquenessRatio = 5\n",
    "    speckleRange = 3\n",
    "    speckleWindow = 20\n",
    "    num_disp = 64\n",
    "    stereo = cv2.StereoSGBM_create(minDisparity = 2,\n",
    "                        numDisparities = num_disp,\n",
    "                        blockSize = blockSize,\n",
    "                        uniquenessRatio = uniquenessRatio,\n",
    "                        speckleWindowSize = speckleWindow,\n",
    "                        speckleRange = speckleRange,\n",
    "                        disp12MaxDiff = 1,\n",
    "                        P1 = blockSize*blockSize*3,\n",
    "                        P2 = 4*blockSize*blockSize*3)\n",
    "    disparity = stereo.compute(imgL, imgR)\n",
    "    # plt.imshow(disparity,'gray')\n",
    "    # plt.show()\n",
    "    cv2.imwrite(path+'disparity_left/'+left_list[i], disparity)\n",
    "    cv2.imwrite(path+'disparity_right/'+right_list[i], disparity)"
   ]
  },
  {
   "cell_type": "code",
   "execution_count": null,
   "metadata": {},
   "outputs": [],
   "source": [
    "'000003_10.png', '000010_11.png', '000012_10.png', '000016_11.png', '000017_11.png', '000020_11.png', '000022_10.png', '000025_11.png', '000026_11.png', '000028_11.png', '000031_11.png', '000033_11.png', '000035_10.png', '000036_10.png', '000036_11.png', '000037_11.png', '000038_11.png', '000042_11.png', '000046_10.png', '000046_11.png', '000048_10.png', '000051_10.png', '000052_10.png', '000054_10.png', '000054_11.png', '000055_10.png', '000055_11.png', '000057_10.png', '000058_11.png', '000061_10.png', '000063_10.png', '000064_11.png', '000068_10.png', '000069_11.png', '000070_10.png', '000070_11.png', '000072_11.png', '000074_11.png', '000076_11.png', '000079_10.png', '000082_10.png', '000082_11.png', '000084_11.png', '000085_10.png', '000092_10.png', '000093_10.png', '000094_11.png', '000096_11.png', '000099_10.png', '000099_11.png', '000100_11.png', '000103_11.png', '000106_10.png', '000107_11.png', '000109_11.png', '000110_11.png', '000112_11.png', '000114_11.png', '000117_10.png', '000118_11.png', '000122_11.png', '000124_10.png', '000126_11.png', '000128_10.png', '000128_11.png', '000134_10.png', '000137_11.png', '000138_10.png', '000144_10.png', '000146_10.png', '000146_11.png', '000147_11.png', '000148_11.png', '000150_10.png', '000151_10.png', '000157_11.png', '000158_11.png', '000159_10.png', '000162_10.png', '000162_11.png', '000164_11.png', '000166_10.png', '000168_10.png', '000168_11.png', '000170_11.png', '000171_10.png', '000171_11.png', '000172_10.png', '000174_11.png', '000175_10.png', '000178_10.png', '000178_11.png', '000182_10.png', '000183_11.png', '000187_10.png', '000190_10.png', '000190_11.png', '000192_11.png', '000196_11.png', '000198_11.png'"
   ]
  }
 ],
 "metadata": {
  "kernelspec": {
   "display_name": "Python 3.10.6 ('11775-hw2')",
   "language": "python",
   "name": "python3"
  },
  "language_info": {
   "codemirror_mode": {
    "name": "ipython",
    "version": 3
   },
   "file_extension": ".py",
   "mimetype": "text/x-python",
   "name": "python",
   "nbconvert_exporter": "python",
   "pygments_lexer": "ipython3",
   "version": "3.10.6"
  },
  "orig_nbformat": 4,
  "vscode": {
   "interpreter": {
    "hash": "09f94152c9560a9262e19909104123c27996423b8d9cefbf1cc31600487b030b"
   }
  }
 },
 "nbformat": 4,
 "nbformat_minor": 2
}
