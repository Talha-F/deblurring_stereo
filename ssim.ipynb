{
 "cells": [
  {
   "cell_type": "code",
   "execution_count": 2,
   "metadata": {},
   "outputs": [],
   "source": [
    "import cv2\n",
    "import os\n",
    "from skimage.metrics import structural_similarity as ssim\n",
    "def ssim_func(image1, image2):\n",
    "\n",
    "    # Convert the images to grayscale\n",
    "    gray1 = cv2.cvtColor(image1, cv2.COLOR_BGR2GRAY)\n",
    "    gray2 = cv2.cvtColor(image2, cv2.COLOR_BGR2GRAY)\n",
    "\n",
    "    # Check for same size and ratio and report accordingly\n",
    "    ho, wo, _ = image1.shape\n",
    "    hc, wc, _ = image2.shape\n",
    "    ratio_orig = ho/wo\n",
    "    ratio_comp = hc/wc\n",
    "    dim = (wc, hc)\n",
    "\n",
    "    if round(ratio_orig, 2) != round(ratio_comp, 2):\n",
    "        print(\"\\nImages not of the same dimension. Check input.\")\n",
    "        exit()\n",
    "\n",
    "    # Resize first image if the second image is smaller\n",
    "    elif ho > hc and wo > wc:\n",
    "        print(\"\\nResizing original image for analysis...\")\n",
    "        gray1 = cv2.resize(gray1, dim)\n",
    "\n",
    "    elif ho < hc and wo < wc:\n",
    "        print(\"\\nCompressed image has a larger dimension than the original. Check input.\")\n",
    "        exit()\n",
    "\n",
    "    if round(ratio_orig, 2) == round(ratio_comp, 2):\n",
    "        ssim_value = compare(gray1, gray2)\n",
    "        return ssim_value\n",
    "\n",
    "def compare(imageA, imageB):\n",
    "    # Calculate the MSE and SSIM\n",
    "    s = ssim(imageA, imageB)\n",
    "\n",
    "    # Return the SSIM. The higher the value, the more \"similar\" the two images are.\n",
    "    return s"
   ]
  },
  {
   "cell_type": "code",
   "execution_count": 3,
   "metadata": {},
   "outputs": [
    {
     "name": "stdout",
     "output_type": "stream",
     "text": [
      "7\n",
      "['1666313493648_blurred_10.png', '1666313493648_blurred_25.png', '1666313493648_gaussian_25.png', '1666313493648_gaussian_5.png', '1666313493648_motion_10.png', '1666313493648_motion_25.png', '1666313493648_motion_5.png']\n",
      "['1666313493648_blurred_10.png', '1666313493648_blurred_25.png', '1666313493648_gaussian_25.png', '1666313493648_gaussian_5.png', '1666313493648_motion_10.png', '1666313493648_motion_25.png', '1666313493648_motion_5.png']\n",
      "1666313493648_blurred_10.pngssim:  0.8572439903523071\n",
      "1666313493648_blurred_25.pngssim:  0.9272583299203081\n",
      "1666313493648_gaussian_25.pngssim:  0.9033010900365128\n",
      "1666313493648_gaussian_5.pngssim:  0.7514295561424748\n",
      "1666313493648_motion_10.pngssim:  0.7134293303493766\n",
      "1666313493648_motion_25.pngssim:  0.8133893296705301\n",
      "1666313493648_motion_5.pngssim:  0.47738243586294565\n"
     ]
    }
   ],
   "source": [
    "\n",
    "\n",
    "\n",
    "path = '/home/cvmlserver/Seohyeon/DAVANet/'\n",
    "left_list = sorted(os.listdir(path + 'output/stereo/Test/left/'))\n",
    "right_list = sorted(os.listdir(path + 'output/stereo/Test/right/'))\n",
    "length = len(left_list)\n",
    "print(length)\n",
    "print(right_list)\n",
    "print(left_list)\n",
    "\n",
    "for i in range(length):\n",
    "    Input_ImgR = cv2.imread('input/Test/image_right_blur_ga/'+right_list[i])\n",
    "    Input_ImgL = cv2.imread('input/Test/image_left_blur_ga/'+left_list[i])\n",
    "    ImgR = cv2.imread(path+'output/stereo/Test/left/'+right_list[i])\n",
    "    ImgL = cv2.imread(path+'output/stereo/Test/left/'+left_list[i])\n",
    "\n",
    "    ssim_value = ssim_func(Input_ImgR, ImgR) / 2 + ssim_func(Input_ImgL, ImgL) / 2\n",
    "\n",
    "    print(left_list[i]+\"ssim: \",ssim_value)\n",
    "\n"
   ]
  },
  {
   "cell_type": "code",
   "execution_count": 16,
   "metadata": {},
   "outputs": [
    {
     "data": {
      "text/plain": [
       "0.8185332932796818"
      ]
     },
     "execution_count": 16,
     "metadata": {},
     "output_type": "execute_result"
    }
   ],
   "source": [
    "ssim_func(Input_ImgR, ImgR)"
   ]
  },
  {
   "cell_type": "code",
   "execution_count": null,
   "metadata": {},
   "outputs": [],
   "source": []
  }
 ],
 "metadata": {
  "kernelspec": {
   "display_name": "Python 3.10.6 ('11775-hw2')",
   "language": "python",
   "name": "python3"
  },
  "language_info": {
   "codemirror_mode": {
    "name": "ipython",
    "version": 3
   },
   "file_extension": ".py",
   "mimetype": "text/x-python",
   "name": "python",
   "nbconvert_exporter": "python",
   "pygments_lexer": "ipython3",
   "version": "3.10.6"
  },
  "orig_nbformat": 4,
  "vscode": {
   "interpreter": {
    "hash": "09f94152c9560a9262e19909104123c27996423b8d9cefbf1cc31600487b030b"
   }
  }
 },
 "nbformat": 4,
 "nbformat_minor": 2
}
